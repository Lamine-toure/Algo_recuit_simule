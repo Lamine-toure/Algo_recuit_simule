{
 "cells": [
  {
   "cell_type": "markdown",
   "id": "ec7e8f8c",
   "metadata": {},
   "source": [
    "## Rappel sur la chaine de markov"
   ]
  },
  {
   "cell_type": "markdown",
   "id": "d0ed60a5",
   "metadata": {},
   "source": [
    "### Exercice1"
   ]
  },
  {
   "cell_type": "code",
   "execution_count": 23,
   "id": "fc35fde9",
   "metadata": {},
   "outputs": [
    {
     "name": "stdout",
     "output_type": "stream",
     "text": [
      "[[0.5  0.   0.5  0.   0.  ]\n",
      " [0.25 0.5  0.25 0.   0.  ]\n",
      " [0.5  0.   0.5  0.   0.  ]\n",
      " [0.   0.   0.   0.5  0.5 ]\n",
      " [0.   0.   0.   0.5  0.5 ]]\n"
     ]
    }
   ],
   "source": [
    "import numpy as np\n",
    "import numpy.random as npr\n",
    "p = np.array([[0.5,0,0.5,0,0],[0.25,0.5,0.25,0,0],[0.5,0,0.5,0,0],[0,0,0,0.5,0.5],[0,0,0,0.5,0.5]])\n",
    "print(p)"
   ]
  },
  {
   "cell_type": "code",
   "execution_count": 24,
   "id": "8c1e9700",
   "metadata": {},
   "outputs": [
    {
     "name": "stdout",
     "output_type": "stream",
     "text": [
      "[[0.5        0.         0.5        0.         0.        ]\n",
      " [0.49951172 0.00097656 0.49951172 0.         0.        ]\n",
      " [0.5        0.         0.5        0.         0.        ]\n",
      " [0.         0.         0.         0.5        0.5       ]\n",
      " [0.         0.         0.         0.5        0.5       ]]\n"
     ]
    }
   ],
   "source": [
    "# Calcul de la matrice à la puissance n (par exemple, puissance 2)\n",
    "n = 10\n",
    "resultat = np.linalg.matrix_power(p, n)\n",
    "\n",
    "# Affichage du résultat\n",
    "print(resultat)\n"
   ]
  },
  {
   "cell_type": "code",
   "execution_count": 40,
   "id": "dbb437c9",
   "metadata": {},
   "outputs": [],
   "source": [
    "#simulation de la chaine de Markov\n"
   ]
  },
  {
   "cell_type": "code",
   "execution_count": 37,
   "id": "bf19655e",
   "metadata": {},
   "outputs": [
    {
     "name": "stdout",
     "output_type": "stream",
     "text": [
      "0.6439102620966266 [0, 1, 2, 3, 4]\n"
     ]
    }
   ],
   "source": [
    "def F(u,x):\n",
    "    F = np.sum(np.cumsum(p[x,:])<u)+1\n",
    "    return F\n",
    "    \n",
    "u = npr.rand()\n",
    "x = [0,1,2,3,4]\n",
    "print(u,x)"
   ]
  },
  {
   "cell_type": "code",
   "execution_count": null,
   "id": "3430a3a0",
   "metadata": {},
   "outputs": [],
   "source": []
  }
 ],
 "metadata": {
  "kernelspec": {
   "display_name": "Python 3 (ipykernel)",
   "language": "python",
   "name": "python3"
  },
  "language_info": {
   "codemirror_mode": {
    "name": "ipython",
    "version": 3
   },
   "file_extension": ".py",
   "mimetype": "text/x-python",
   "name": "python",
   "nbconvert_exporter": "python",
   "pygments_lexer": "ipython3",
   "version": "3.11.5"
  }
 },
 "nbformat": 4,
 "nbformat_minor": 5
}
