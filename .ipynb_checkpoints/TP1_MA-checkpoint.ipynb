{
 "cells": [
  {
   "cell_type": "markdown",
   "id": "78602132",
   "metadata": {},
   "source": [
    "# TD 1"
   ]
  },
  {
   "cell_type": "code",
   "execution_count": 2,
   "id": "46cd0097",
   "metadata": {},
   "outputs": [],
   "source": [
    "import numpy as np\n",
    "import matplotlib.pyplot as plt\n",
    "import numpy.random as npr"
   ]
  },
  {
   "cell_type": "markdown",
   "id": "b399f417",
   "metadata": {},
   "source": [
    "## Exercice 1"
   ]
  },
  {
   "cell_type": "code",
   "execution_count": 3,
   "id": "db299a12",
   "metadata": {},
   "outputs": [],
   "source": [
    "P=np.array([[0.5,0,0.5,0,0],[0.25,0.5,0.25,0,0],[0.5,0,0.5,0,0],[0,0,0,0.5,0.5],[0,0,0,0.5,0.5]])"
   ]
  },
  {
   "cell_type": "code",
   "execution_count": 12,
   "id": "c726442d",
   "metadata": {},
   "outputs": [
    {
     "data": {
      "text/plain": [
       "array([[5.00000000e-01, 0.00000000e+00, 5.00000000e-01, 0.00000000e+00,\n",
       "        0.00000000e+00],\n",
       "       [4.99984741e-01, 3.05175781e-05, 4.99984741e-01, 0.00000000e+00,\n",
       "        0.00000000e+00],\n",
       "       [5.00000000e-01, 0.00000000e+00, 5.00000000e-01, 0.00000000e+00,\n",
       "        0.00000000e+00],\n",
       "       [0.00000000e+00, 0.00000000e+00, 0.00000000e+00, 5.00000000e-01,\n",
       "        5.00000000e-01],\n",
       "       [0.00000000e+00, 0.00000000e+00, 0.00000000e+00, 5.00000000e-01,\n",
       "        5.00000000e-01]])"
      ]
     },
     "execution_count": 12,
     "metadata": {},
     "output_type": "execute_result"
    }
   ],
   "source": [
    "np.linalg.matrix_power(P,15)"
   ]
  },
  {
   "cell_type": "code",
   "execution_count": 4,
   "id": "174520d2",
   "metadata": {},
   "outputs": [],
   "source": [
    "P=np.array([[0.5,0,0.5,0,0],[0.25,0.5,0.25,0,0],[0.5,0,0.5,0,0],[0,0,0,0.5,0.5],[0,0,0,0.5,0.5]])\n",
    "\n",
    "def X(n,d):\n",
    "    #Donne une réalisation de (X_n) de point de départ d\n",
    "    x=[d]\n",
    "    for _ in range(1,n+1):\n",
    "        U=npr.rand()\n",
    "        i=1\n",
    "        while sum(P[x[-1]-1,:i])<U:\n",
    "            i+=1\n",
    "        x.append(i)\n",
    "    return x\n",
    "\n",
    "#Autre version\n",
    "#def X(n):\n",
    "#    def F(x,u):\n",
    "#        return np.sum(np.cumsum(P[x-1,:])<u)+1\n",
    "#    for _ in range(1,n+1):\n",
    "#        x=[npr.randint(1,6)]\n",
    "#        x.append(F(x[-1],npr.rand()))\n",
    "#    return x"
   ]
  },
  {
   "cell_type": "code",
   "execution_count": 5,
   "id": "3a1394d8",
   "metadata": {},
   "outputs": [
    {
     "data": {
      "text/plain": [
       "[2, 1, 1, 3, 1, 3, 1, 3, 1, 1, 1, 3, 3, 1, 1, 1]"
      ]
     },
     "execution_count": 5,
     "metadata": {},
     "output_type": "execute_result"
    }
   ],
   "source": [
    "X(15,2)"
   ]
  },
  {
   "cell_type": "code",
   "execution_count": 8,
   "id": "fe959ce4",
   "metadata": {},
   "outputs": [
    {
     "data": {
      "image/png": "[encoded data removed]",
      "text/plain": [
       "<Figure size 640x480 with 1 Axes>"
      ]
     },
     "metadata": {},
     "output_type": "display_data"
    }
   ],
   "source": [
    "#Cv en loi\n",
    "p=500\n",
    "n=1000\n",
    "res=np.array([0,0,0,0,0])\n",
    "for _ in range(n):\n",
    "    res[X(p,4)[-1]-1]+=1\n",
    "plt.bar(range(1,6),res/n,width=0.5)\n",
    "plt.show()"
   ]
  },
  {
   "cell_type": "markdown",
   "id": "abf9a5ff",
   "metadata": {},
   "source": [
    "## Exercice 2"
   ]
  },
  {
   "cell_type": "code",
   "execution_count": 9,
   "id": "5ffb11eb",
   "metadata": {},
   "outputs": [],
   "source": [
    "P=np.array([[1,0,0,0,0],[0.5,0,0.5,0,0],[0,0.5,0,0.5,0],[0,0,0.5,0,0.5],[0,0,0,0,1]])\n",
    "\n",
    "def X(n,d):\n",
    "    #Donne une réalisation de (X_n) de point de départ d\n",
    "    x=[d]\n",
    "    for _ in range(1,n+1):\n",
    "        U=npr.rand()\n",
    "        i=1\n",
    "        while sum(P[x[-1]-1,:i])<U:\n",
    "            i+=1\n",
    "        x.append(i)\n",
    "    return x"
   ]
  },
  {
   "cell_type": "code",
   "execution_count": 18,
   "id": "2b4cd653",
   "metadata": {},
   "outputs": [
    {
     "data": {
      "text/plain": [
       "[3, 2, 1, 1, 1, 1, 1, 1, 1, 1, 1]"
      ]
     },
     "execution_count": 18,
     "metadata": {},
     "output_type": "execute_result"
    }
   ],
   "source": [
    "X(10,3)"
   ]
  },
  {
   "cell_type": "code",
   "execution_count": 65,
   "id": "c70d78d8",
   "metadata": {},
   "outputs": [
    {
     "ename": "ValueError",
     "evalue": "'left' is not a valid value for align; supported values are 'center', 'edge'",
     "output_type": "error",
     "traceback": [
      "\u001b[1;31m---------------------------------------------------------------------------\u001b[0m",
      "\u001b[1;31mValueError\u001b[0m                                Traceback (most recent call last)",
      "Cell \u001b[1;32mIn [65], line 20\u001b[0m\n\u001b[0;32m     17\u001b[0m             prob\u001b[38;5;241m+\u001b[39m\u001b[38;5;241m=\u001b[39m\u001b[38;5;241m1\u001b[39m\n\u001b[0;32m     18\u001b[0m     emp\u001b[38;5;241m.\u001b[39mappend(prob\u001b[38;5;241m/\u001b[39mN)\n\u001b[1;32m---> 20\u001b[0m \u001b[43mplt\u001b[49m\u001b[38;5;241;43m.\u001b[39;49m\u001b[43mbar\u001b[49m\u001b[43m(\u001b[49m\u001b[38;5;28;43mrange\u001b[39;49m\u001b[43m(\u001b[49m\u001b[38;5;241;43m1\u001b[39;49m\u001b[43m,\u001b[49m\u001b[38;5;241;43m6\u001b[39;49m\u001b[43m)\u001b[49m\u001b[43m,\u001b[49m\u001b[43memp\u001b[49m\u001b[43m,\u001b[49m\u001b[43mwidth\u001b[49m\u001b[38;5;241;43m=\u001b[39;49m\u001b[38;5;241;43m0.3\u001b[39;49m\u001b[43m,\u001b[49m\u001b[43malign\u001b[49m\u001b[38;5;241;43m=\u001b[39;49m\u001b[38;5;124;43m'\u001b[39;49m\u001b[38;5;124;43mleft\u001b[39;49m\u001b[38;5;124;43m'\u001b[39;49m\u001b[43m)\u001b[49m\n",
      "File \u001b[1;32mc:\\users\\hugo mina passi\\miniconda3\\lib\\site-packages\\matplotlib\\pyplot.py:2487\u001b[0m, in \u001b[0;36mbar\u001b[1;34m(x, height, width, bottom, align, data, **kwargs)\u001b[0m\n\u001b[0;32m   2483\u001b[0m \u001b[38;5;129m@_copy_docstring_and_deprecators\u001b[39m(Axes\u001b[38;5;241m.\u001b[39mbar)\n\u001b[0;32m   2484\u001b[0m \u001b[38;5;28;01mdef\u001b[39;00m \u001b[38;5;21mbar\u001b[39m(\n\u001b[0;32m   2485\u001b[0m         x, height, width\u001b[38;5;241m=\u001b[39m\u001b[38;5;241m0.8\u001b[39m, bottom\u001b[38;5;241m=\u001b[39m\u001b[38;5;28;01mNone\u001b[39;00m, \u001b[38;5;241m*\u001b[39m, align\u001b[38;5;241m=\u001b[39m\u001b[38;5;124m'\u001b[39m\u001b[38;5;124mcenter\u001b[39m\u001b[38;5;124m'\u001b[39m,\n\u001b[0;32m   2486\u001b[0m         data\u001b[38;5;241m=\u001b[39m\u001b[38;5;28;01mNone\u001b[39;00m, \u001b[38;5;241m*\u001b[39m\u001b[38;5;241m*\u001b[39mkwargs):\n\u001b[1;32m-> 2487\u001b[0m     \u001b[38;5;28;01mreturn\u001b[39;00m \u001b[43mgca\u001b[49m\u001b[43m(\u001b[49m\u001b[43m)\u001b[49m\u001b[38;5;241;43m.\u001b[39;49m\u001b[43mbar\u001b[49m\u001b[43m(\u001b[49m\n\u001b[0;32m   2488\u001b[0m \u001b[43m        \u001b[49m\u001b[43mx\u001b[49m\u001b[43m,\u001b[49m\u001b[43m \u001b[49m\u001b[43mheight\u001b[49m\u001b[43m,\u001b[49m\u001b[43m \u001b[49m\u001b[43mwidth\u001b[49m\u001b[38;5;241;43m=\u001b[39;49m\u001b[43mwidth\u001b[49m\u001b[43m,\u001b[49m\u001b[43m \u001b[49m\u001b[43mbottom\u001b[49m\u001b[38;5;241;43m=\u001b[39;49m\u001b[43mbottom\u001b[49m\u001b[43m,\u001b[49m\u001b[43m \u001b[49m\u001b[43malign\u001b[49m\u001b[38;5;241;43m=\u001b[39;49m\u001b[43malign\u001b[49m\u001b[43m,\u001b[49m\n\u001b[0;32m   2489\u001b[0m \u001b[43m        \u001b[49m\u001b[38;5;241;43m*\u001b[39;49m\u001b[38;5;241;43m*\u001b[39;49m\u001b[43m(\u001b[49m\u001b[43m{\u001b[49m\u001b[38;5;124;43m\"\u001b[39;49m\u001b[38;5;124;43mdata\u001b[39;49m\u001b[38;5;124;43m\"\u001b[39;49m\u001b[43m:\u001b[49m\u001b[43m \u001b[49m\u001b[43mdata\u001b[49m\u001b[43m}\u001b[49m\u001b[43m \u001b[49m\u001b[38;5;28;43;01mif\u001b[39;49;00m\u001b[43m \u001b[49m\u001b[43mdata\u001b[49m\u001b[43m \u001b[49m\u001b[38;5;129;43;01mis\u001b[39;49;00m\u001b[43m \u001b[49m\u001b[38;5;129;43;01mnot\u001b[39;49;00m\u001b[43m \u001b[49m\u001b[38;5;28;43;01mNone\u001b[39;49;00m\u001b[43m \u001b[49m\u001b[38;5;28;43;01melse\u001b[39;49;00m\u001b[43m \u001b[49m\u001b[43m{\u001b[49m\u001b[43m}\u001b[49m\u001b[43m)\u001b[49m\u001b[43m,\u001b[49m\u001b[43m \u001b[49m\u001b[38;5;241;43m*\u001b[39;49m\u001b[38;5;241;43m*\u001b[39;49m\u001b[43mkwargs\u001b[49m\u001b[43m)\u001b[49m\n",
      "File \u001b[1;32mc:\\users\\hugo mina passi\\miniconda3\\lib\\site-packages\\matplotlib\\__init__.py:1447\u001b[0m, in \u001b[0;36m_preprocess_data.<locals>.inner\u001b[1;34m(ax, data, *args, **kwargs)\u001b[0m\n\u001b[0;32m   1444\u001b[0m \u001b[38;5;129m@functools\u001b[39m\u001b[38;5;241m.\u001b[39mwraps(func)\n\u001b[0;32m   1445\u001b[0m \u001b[38;5;28;01mdef\u001b[39;00m \u001b[38;5;21minner\u001b[39m(ax, \u001b[38;5;241m*\u001b[39margs, data\u001b[38;5;241m=\u001b[39m\u001b[38;5;28;01mNone\u001b[39;00m, \u001b[38;5;241m*\u001b[39m\u001b[38;5;241m*\u001b[39mkwargs):\n\u001b[0;32m   1446\u001b[0m     \u001b[38;5;28;01mif\u001b[39;00m data \u001b[38;5;129;01mis\u001b[39;00m \u001b[38;5;28;01mNone\u001b[39;00m:\n\u001b[1;32m-> 1447\u001b[0m         \u001b[38;5;28;01mreturn\u001b[39;00m \u001b[43mfunc\u001b[49m\u001b[43m(\u001b[49m\u001b[43max\u001b[49m\u001b[43m,\u001b[49m\u001b[43m \u001b[49m\u001b[38;5;241;43m*\u001b[39;49m\u001b[38;5;28;43mmap\u001b[39;49m\u001b[43m(\u001b[49m\u001b[43msanitize_sequence\u001b[49m\u001b[43m,\u001b[49m\u001b[43m \u001b[49m\u001b[43margs\u001b[49m\u001b[43m)\u001b[49m\u001b[43m,\u001b[49m\u001b[43m \u001b[49m\u001b[38;5;241;43m*\u001b[39;49m\u001b[38;5;241;43m*\u001b[39;49m\u001b[43mkwargs\u001b[49m\u001b[43m)\u001b[49m\n\u001b[0;32m   1449\u001b[0m     bound \u001b[38;5;241m=\u001b[39m new_sig\u001b[38;5;241m.\u001b[39mbind(ax, \u001b[38;5;241m*\u001b[39margs, \u001b[38;5;241m*\u001b[39m\u001b[38;5;241m*\u001b[39mkwargs)\n\u001b[0;32m   1450\u001b[0m     auto_label \u001b[38;5;241m=\u001b[39m (bound\u001b[38;5;241m.\u001b[39marguments\u001b[38;5;241m.\u001b[39mget(label_namer)\n\u001b[0;32m   1451\u001b[0m                   \u001b[38;5;129;01mor\u001b[39;00m bound\u001b[38;5;241m.\u001b[39mkwargs\u001b[38;5;241m.\u001b[39mget(label_namer))\n",
      "File \u001b[1;32mc:\\users\\hugo mina passi\\miniconda3\\lib\\site-packages\\matplotlib\\axes\\_axes.py:2456\u001b[0m, in \u001b[0;36mAxes.bar\u001b[1;34m(self, x, height, width, bottom, align, **kwargs)\u001b[0m\n\u001b[0;32m   2449\u001b[0m     edgecolor \u001b[38;5;241m=\u001b[39m itertools\u001b[38;5;241m.\u001b[39mchain(\n\u001b[0;32m   2450\u001b[0m         itertools\u001b[38;5;241m.\u001b[39mcycle(mcolors\u001b[38;5;241m.\u001b[39mto_rgba_array(edgecolor)),\n\u001b[0;32m   2451\u001b[0m         \u001b[38;5;66;03m# Fallback if edgecolor == \"none\".\u001b[39;00m\n\u001b[0;32m   2452\u001b[0m         itertools\u001b[38;5;241m.\u001b[39mrepeat(\u001b[38;5;124m'\u001b[39m\u001b[38;5;124mnone\u001b[39m\u001b[38;5;124m'\u001b[39m))\n\u001b[0;32m   2454\u001b[0m \u001b[38;5;66;03m# We will now resolve the alignment and really have\u001b[39;00m\n\u001b[0;32m   2455\u001b[0m \u001b[38;5;66;03m# left, bottom, width, height vectors\u001b[39;00m\n\u001b[1;32m-> 2456\u001b[0m \u001b[43mcbook\u001b[49m\u001b[38;5;241;43m.\u001b[39;49m\u001b[43m_check_in_list\u001b[49m\u001b[43m(\u001b[49m\u001b[43m[\u001b[49m\u001b[38;5;124;43m'\u001b[39;49m\u001b[38;5;124;43mcenter\u001b[39;49m\u001b[38;5;124;43m'\u001b[39;49m\u001b[43m,\u001b[49m\u001b[43m \u001b[49m\u001b[38;5;124;43m'\u001b[39;49m\u001b[38;5;124;43medge\u001b[39;49m\u001b[38;5;124;43m'\u001b[39;49m\u001b[43m]\u001b[49m\u001b[43m,\u001b[49m\u001b[43m \u001b[49m\u001b[43malign\u001b[49m\u001b[38;5;241;43m=\u001b[39;49m\u001b[43malign\u001b[49m\u001b[43m)\u001b[49m\n\u001b[0;32m   2457\u001b[0m \u001b[38;5;28;01mif\u001b[39;00m align \u001b[38;5;241m==\u001b[39m \u001b[38;5;124m'\u001b[39m\u001b[38;5;124mcenter\u001b[39m\u001b[38;5;124m'\u001b[39m:\n\u001b[0;32m   2458\u001b[0m     \u001b[38;5;28;01mif\u001b[39;00m orientation \u001b[38;5;241m==\u001b[39m \u001b[38;5;124m'\u001b[39m\u001b[38;5;124mvertical\u001b[39m\u001b[38;5;124m'\u001b[39m:\n",
      "File \u001b[1;32mc:\\users\\hugo mina passi\\miniconda3\\lib\\site-packages\\matplotlib\\cbook\\__init__.py:2266\u001b[0m, in \u001b[0;36m_check_in_list\u001b[1;34m(_values, **kwargs)\u001b[0m\n\u001b[0;32m   2264\u001b[0m \u001b[38;5;28;01mfor\u001b[39;00m k, v \u001b[38;5;129;01min\u001b[39;00m kwargs\u001b[38;5;241m.\u001b[39mitems():\n\u001b[0;32m   2265\u001b[0m     \u001b[38;5;28;01mif\u001b[39;00m v \u001b[38;5;129;01mnot\u001b[39;00m \u001b[38;5;129;01min\u001b[39;00m values:\n\u001b[1;32m-> 2266\u001b[0m         \u001b[38;5;28;01mraise\u001b[39;00m \u001b[38;5;167;01mValueError\u001b[39;00m(\n\u001b[0;32m   2267\u001b[0m             \u001b[38;5;124m\"\u001b[39m\u001b[38;5;132;01m{!r}\u001b[39;00m\u001b[38;5;124m is not a valid value for \u001b[39m\u001b[38;5;132;01m{}\u001b[39;00m\u001b[38;5;124m; supported values are \u001b[39m\u001b[38;5;132;01m{}\u001b[39;00m\u001b[38;5;124m\"\u001b[39m\n\u001b[0;32m   2268\u001b[0m             \u001b[38;5;241m.\u001b[39mformat(v, k, \u001b[38;5;124m'\u001b[39m\u001b[38;5;124m, \u001b[39m\u001b[38;5;124m'\u001b[39m\u001b[38;5;241m.\u001b[39mjoin(\u001b[38;5;28mmap\u001b[39m(\u001b[38;5;28mrepr\u001b[39m, values))))\n",
      "\u001b[1;31mValueError\u001b[0m: 'left' is not a valid value for align; supported values are 'center', 'edge'"
     ]
    },
    {
     "data": {
      "image/png": "[encoded data removed]",
      "text/plain": [
       "<Figure size 640x480 with 1 Axes>"
      ]
     },
     "metadata": {},
     "output_type": "display_data"
    }
   ],
   "source": [
    "## Proba d'absorption en 1\n",
    "N=500\n",
    "th=[(5-x)/4 for x in range(1,6)]\n",
    "emp=[]\n",
    "\n",
    "for d in range(1,6):\n",
    "    prob=0\n",
    "    for _ in range(N):\n",
    "        x=d\n",
    "        while x!=1 and x!=5:\n",
    "            U=npr.rand()\n",
    "            j=1\n",
    "            while sum(P[x-1,:j])<U:\n",
    "                j+=1\n",
    "            x=j\n",
    "        if x==1:\n",
    "            prob+=1\n",
    "    emp.append(prob/N)\n",
    "    \n",
    "plt.bar(range(1,6),emp,width=0.3)"
   ]
  },
  {
   "cell_type": "code",
   "execution_count": 61,
   "id": "a096d7b0",
   "metadata": {},
   "outputs": [
    {
     "name": "stdout",
     "output_type": "stream",
     "text": [
      "Temps moyen d'absorption en partant de 4 : 3\n",
      "Temps moyen d'absorption en partant de 4 : 3.044\n"
     ]
    }
   ],
   "source": [
    "## Temps moyen d'absorption\n",
    "d=4\n",
    "N=500\n",
    "t_tot=0 #temps total\n",
    "for _ in range(N):\n",
    "    t=0\n",
    "    x=d\n",
    "    while x!=1 and x!=5:\n",
    "        t+=1\n",
    "        U=npr.rand()\n",
    "        j=1\n",
    "        while sum(P[x-1,:j])<U:\n",
    "            j+=1\n",
    "        x=j\n",
    "    t_tot+=t\n",
    "        \n",
    "print(\"Temps moyen d'absorption en partant de {} : {}\".format(d,-d*d+6*d-5))\n",
    "print(\"Temps moyen d'absorption en partant de {} : {}\".format(d,t_tot/N))"
   ]
  },
  {
   "cell_type": "code",
   "execution_count": null,
   "id": "35a09d8a",
   "metadata": {},
   "outputs": [],
   "source": []
  }
 ],
 "metadata": {
  "kernelspec": {
   "display_name": "Python 3 (ipykernel)",
   "language": "python",
   "name": "python3"
  },
  "language_info": {
   "codemirror_mode": {
    "name": "ipython",
    "version": 3
   },
   "file_extension": ".py",
   "mimetype": "text/x-python",
   "name": "python",
   "nbconvert_exporter": "python",
   "pygments_lexer": "ipython3",
   "version": "3.11.5"
  }
 },
 "nbformat": 4,
 "nbformat_minor": 5
}
