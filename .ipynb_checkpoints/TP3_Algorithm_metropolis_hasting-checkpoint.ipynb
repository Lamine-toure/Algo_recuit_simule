{
 "cells": [
  {
   "cell_type": "code",
   "execution_count": 2,
   "id": "da8c7811",
   "metadata": {},
   "outputs": [],
   "source": [
    "import numpy as np\n",
    "import matplotlib.pyplot as plt\n",
    "import numpy.random as npr"
   ]
  },
  {
   "cell_type": "code",
   "execution_count": 5,
   "id": "d3d4a1af",
   "metadata": {},
   "outputs": [],
   "source": [
    "u =npr.rand()\n",
    "n = 100\n",
    "N = 10\n",
    "#simulation\n",
    "etapes = np.arange(1,N,1) \n",
    "x = np.zeros(N)\n",
    "for i in range(N):\n",
    "    if(x[i] == 0):\n",
    "        if(u>0.5):\n",
    "            x[i+1] = x[i] + 1\n",
    "        else:\n",
    "            x[i+1] = etape[N]\n",
    "                \n",
    "        \n",
    "    \n",
    " "
   ]
  },
  {
   "cell_type": "code",
   "execution_count": 6,
   "id": "5ae6568f",
   "metadata": {},
   "outputs": [],
   "source": [
    "etapes = np.arange(1,N,1)"
   ]
  },
  {
   "cell_type": "code",
   "execution_count": 11,
   "id": "5232487f",
   "metadata": {},
   "outputs": [
    {
     "data": {
      "text/plain": [
       "9"
      ]
     },
     "execution_count": 11,
     "metadata": {},
     "output_type": "execute_result"
    }
   ],
   "source": [
    "etapes[8]"
   ]
  },
  {
   "cell_type": "code",
   "execution_count": null,
   "id": "042a0145",
   "metadata": {},
   "outputs": [],
   "source": []
  }
 ],
 "metadata": {
  "kernelspec": {
   "display_name": "Python 3 (ipykernel)",
   "language": "python",
   "name": "python3"
  },
  "language_info": {
   "codemirror_mode": {
    "name": "ipython",
    "version": 3
   },
   "file_extension": ".py",
   "mimetype": "text/x-python",
   "name": "python",
   "nbconvert_exporter": "python",
   "pygments_lexer": "ipython3",
   "version": "3.11.5"
  }
 },
 "nbformat": 4,
 "nbformat_minor": 5
}
