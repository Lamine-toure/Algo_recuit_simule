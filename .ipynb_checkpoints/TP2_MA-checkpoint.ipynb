{
 "cells": [
  {
   "cell_type": "markdown",
   "metadata": {},
   "source": [
    "# TD 2: Algorithme de Metropolis-Hasting"
   ]
  },
  {
   "cell_type": "code",
   "execution_count": 1,
   "metadata": {},
   "outputs": [],
   "source": [
    "import numpy as np\n",
    "import matplotlib.pyplot as plt\n",
    "import numpy.random as npr"
   ]
  },
  {
   "cell_type": "markdown",
   "metadata": {},
   "source": [
    "## Exemple: Modèle simple"
   ]
  },
  {
   "cell_type": "code",
   "execution_count": 2,
   "metadata": {},
   "outputs": [],
   "source": [
    "def V(x):\n",
    "    return -np.log(1+np.sin(x*x))"
   ]
  },
  {
   "cell_type": "code",
   "execution_count": 3,
   "metadata": {},
   "outputs": [],
   "source": [
    "def chaine1(N,k):\n",
    "    #N:taille de l'espace d'état\n",
    "    #Renvoie X_k où (X_n) CM de proba de transiton P et de proba invariante pi\n",
    "    x=np.floor(21*npr.rand())\n",
    "    for _ in range(k):\n",
    "        if npr.rand()<0.5:\n",
    "            y=(x-1)%(N+1)\n",
    "        else:\n",
    "            y=(x+1)%(N+1)\n",
    "        alpha=min(1,np.exp(V(x)-V(y)))\n",
    "        if npr.rand()<alpha:\n",
    "           x=y\n",
    "    return int(x)\n",
    "  "
   ]
  },
  {
   "cell_type": "code",
   "execution_count": 4,
   "metadata": {},
   "outputs": [
    {
     "name": "stdout",
     "output_type": "stream",
     "text": [
      "[ 60. 111.   9.  89.  41.  58.   0.   3. 117.  21.  33. 119.  28.  29.\n",
      " 106.   6.   0.  56.  33.  70.  11.]\n"
     ]
    },
    {
     "data": {
      "image/png": "[encoded data removed]",
      "text/plain": [
       "<Figure size 640x480 with 1 Axes>"
      ]
     },
     "metadata": {},
     "output_type": "display_data"
    }
   ],
   "source": [
    "N=20 #Taille espace d'état\n",
    "M=1000 #Nb de simulations\n",
    "E=np.arange(0,N+1,1)\n",
    "res=np.zeros(21)\n",
    "for _ in range(M):\n",
    "    res[chaine1(N,100)]+=1\n",
    "print(res)\n",
    "plt.bar(E-0.2,res/M,width=0.4)\n",
    "p=np.array([np.exp(-V(n)) for n in range(0,21)])\n",
    "pi=p/sum(p)\n",
    "plt.bar(E+0.2,pi,width=0.4)\n",
    "plt.show()"
   ]
  },
  {
   "cell_type": "code",
   "execution_count": 5,
   "metadata": {},
   "outputs": [
    {
     "data": {
      "text/plain": [
       "array([0, 1, 2, 3, 4, 5, 6, 7, 8])"
      ]
     },
     "execution_count": 5,
     "metadata": {},
     "output_type": "execute_result"
    }
   ],
   "source": [
    "np.arange(0,9)"
   ]
  },
  {
   "cell_type": "markdown",
   "metadata": {},
   "source": [
    "## Modèle d'Ising"
   ]
  },
  {
   "cell_type": "markdown",
   "metadata": {},
   "source": []
  }
 ],
 "metadata": {
  "kernelspec": {
   "display_name": "Python 3 (ipykernel)",
   "language": "python",
   "name": "python3"
  },
  "language_info": {
   "codemirror_mode": {
    "name": "ipython",
    "version": 3
   },
   "file_extension": ".py",
   "mimetype": "text/x-python",
   "name": "python",
   "nbconvert_exporter": "python",
   "pygments_lexer": "ipython3",
   "version": "3.11.5"
  }
 },
 "nbformat": 4,
 "nbformat_minor": 2
}
