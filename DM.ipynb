{
 "cells": [
  {
   "cell_type": "code",
   "execution_count": 1028,
   "metadata": {},
   "outputs": [],
   "source": [
    "import numpy as np\n",
    "import numpy.random as npr\n",
    "import matplotlib.pyplot as plt\n",
    "import random\n",
    "from collections import Counter"
   ]
  },
  {
   "cell_type": "markdown",
   "metadata": {},
   "source": [
    "Remarque : pour déchiffrer le code secret donné il faut que vous commenciez par définir une distance V sur l'ensemble des textes. Par exemple en utilisant le fichier de données, on connait les probabilités de transitions théoriques entre deux caractères (dont l'espace).  Un texte sera donc d'autant plus probable que le produit des probabilités de transitions de ses caractères sera grand. Par ailleurs, on peut voir l'ensemble des code possibles comme des permutations de {a,b,c,...} (dont l'espace). Il faut donc trouver une manière simple de se déplacer dans cet espace, par exemple en passant d'un code à l'autre par une simple transposition. Reste ensuite à coder la méthode de recuit simulé avec cette fonction V et ce noyau de proposition."
   ]
  },
  {
   "cell_type": "code",
   "execution_count": 1029,
   "metadata": {},
   "outputs": [
    {
     "name": "stdout",
     "output_type": "stream",
     "text": [
      "message à déchiffrer --->  ['F', 'R', 'N', 'B', 'R', 'J', 'M', 'F', 'B', 'R', 'N', 'Q', 'X', 'H', 'F', 'Y', 'N', 'W', 'S', 'R', 'N', 'K', 'R', 'D', 'N', 'Z', 'L', 'X', 'D', 'R', 'D', 'N', 'M', 'O', 'O', 'H', 'C', 'R', 'F', 'Y', 'N', 'Z', 'X', 'J', 'J', 'R', 'N', 'Y', 'S', 'N', 'K', 'R', 'D', 'N', 'B', 'R', 'D', 'H', 'O', 'R', 'D', 'N', 'J', 'M', 'H', 'D', 'N', 'B', 'R', 'D', 'H', 'O', 'R', 'N', 'W', 'S', 'N', 'R', 'K', 'K', 'R', 'D', 'N', 'M', 'O', 'O', 'H', 'C', 'R', 'F', 'Y', 'N', 'Z', 'X', 'J', 'J', 'R', 'N', 'R', 'K', 'K', 'R', 'D', 'N', 'M', 'O', 'O', 'H', 'C', 'R', 'F', 'Y', 'N', 'R', 'Y', 'N', 'Y', 'S', 'N', 'Q', 'O', 'X', 'D', 'Q', 'R', 'O', 'R', 'O', 'M', 'D', 'N', 'Y', 'X', 'S', 'V', 'X', 'S', 'O', 'D', 'N', 'R', 'Q', 'H', 'Z', 'Y', 'R', 'Y', 'R']\n",
      "alphabet --->  [' ', 'A', 'B', 'C', 'D', 'E', 'F', 'G', 'H', 'I', 'J', 'K', 'L', 'M', 'N', 'O', 'P', 'Q', 'R', 'S', 'T', 'U', 'V', 'W', 'X', 'Y', 'Z']\n"
     ]
    }
   ],
   "source": [
    "# Chargement des données\n",
    "probas = np.loadtxt('transitions_alphabets.txt') #bigramme des probas\n",
    "message = list(open('MSG.txt').read().strip()) # message à dechiffrer\n",
    "print(\"message à déchiffrer ---> \", message)\n",
    "alphabet = [' '] + [chr(i) for i in range(ord('A'), ord('Z')+1)] # alphabet[0]=' ' ; alphabet[1] = 'A' .... ; alphabet[26] = 'Z'\n",
    "print(\"alphabet ---> \",alphabet)"
   ]
  },
  {
   "cell_type": "code",
   "execution_count": 1030,
   "metadata": {},
   "outputs": [
    {
     "name": "stdout",
     "output_type": "stream",
     "text": [
      "[' ', 'A', 'B', 'C', 'D', 'E', 'F', 'G', 'H', 'I', 'J', 'K', 'L', 'M', 'N', 'O', 'P', 'Q', 'R', 'S', 'T', 'U', 'V', 'W', 'X', 'Y', 'Z']\n"
     ]
    }
   ],
   "source": [
    "# Fonction pour déchiffrer un message codé avec une permutation\n",
    "def dechiffrer_message(message_code, permutation_alphabet):\n",
    "    return [permutation_alphabet[alphabet.index(lettre)] for lettre in message_code]\n",
    "    # alpha = alphabet[:]\n",
    "    # # Création d'un dictionnaire pour la correspondance inverse entre permutation et alphabet\n",
    "    # decrypt_dict = {permutation_alphabet[i]: alpha[i] for i in range(len(alpha))}\n",
    "    \n",
    "    # # Déchiffrer le message en remplaçant chaque caractère selon le dictionnaire\n",
    "    # message_dechiffre = ''.join(decrypt_dict[char] for char in message_code)\n",
    "    \n",
    "    # return message_dechiffre\n",
    "\n",
    "print(alphabet)"
   ]
  },
  {
   "cell_type": "code",
   "execution_count": 1031,
   "metadata": {},
   "outputs": [
    {
     "name": "stdout",
     "output_type": "stream",
     "text": [
      "-8.569076353963306\n",
      "[' ', 'A', 'B', 'C', 'D', 'E', 'F', 'G', 'H', 'I', 'J', 'K', 'L', 'M', 'N', 'O', 'P', 'Q', 'R', 'S', 'T', 'U', 'V', 'W', 'X', 'Y', 'Z']\n"
     ]
    }
   ],
   "source": [
    "# Fonction pour calculer le potentiel d'une permutation donnée\n",
    "def V(message_code, permutation):\n",
    "\n",
    "    ### Entrée : un message code, une permutation de l'alphabet, les probas de transitions, et l'alphabet\n",
    "    ### Sortie : Un réel qui represente le potentiel\n",
    "\n",
    "    val = 0\n",
    "    decode = dechiffrer_message(message_code, permutation) #dechiffre le message via une permutation donnée\n",
    "    for i in range(len(decode)-1): #calcul le produit des probas de transition\n",
    "        lettre1 = decode[i]\n",
    "        lettre2 = decode[i+1]\n",
    "        #print(lettre1)\n",
    "        index1 = alphabet.index(lettre1)\n",
    "        index2 = alphabet.index(lettre2)\n",
    "        #print(index1)\n",
    "        #print(transitions[index1][index2]+1e-6)\n",
    "        val += np.log(probas[index1][index2]+1e-6)\n",
    "    return val/len(decode)\n",
    "\n",
    "print(V(message, alphabet))\n",
    "print(alphabet)"
   ]
  },
  {
   "cell_type": "code",
   "execution_count": 1032,
   "metadata": {},
   "outputs": [],
   "source": [
    "def recuit_simule_decrypt(message_code, it, h):\n",
    "    ### Entrées : un message à déchiffrer, les probas de transitions, l'alphabet et un nombre d'itération max\n",
    "    ### Sortie  : une permutations permettant de dechiffrer le message donné en entrée.\n",
    "\n",
    "    etat0 = random.sample(alphabet, len(alphabet))\n",
    "    etat = etat0[:]\n",
    "    val_etat = []\n",
    "    energie_vals = []\n",
    "    val_etat.append(etat)\n",
    "    for i in range(it):\n",
    "        # #print(alphabet)\n",
    "        # if i == int(it/4):\n",
    "        #     print(\"un quart de la boucle\")\n",
    "        # if i == int(it/2):\n",
    "        #     print(\"moitie de la boucle\")\n",
    "        # if i == int(3*it/4):\n",
    "        #     print(\"trois quart de la boucle\")\n",
    "        etat_avant = etat[:]\n",
    "        # Création d'une nouvelle permutation en échangeant deux lettres\n",
    "        a, b = npr.choice(len(alphabet), 2, replace=False) # replace = true pour ne pas prendre 2 fois la meme valeur\n",
    "        etat[a], etat[b] = etat[b], etat[a]\n",
    "\n",
    "        # Calcul de l'énergie de la nouvelle permutation\n",
    "        energie_etat = V(message_code, etat)\n",
    "        energie_etat_avant = V(message_code, etat_avant)\n",
    "        energie_vals.append(energie_etat)\n",
    "        #print(\"etat\",etat)\n",
    "        #print(\"etat avant\",etat_avant)\n",
    "        T=h/np.log(i+2)\n",
    "        #print(T)\n",
    "        # Acceptation de la nouvelle permutation selon le critère de recuit\n",
    "        #print(np.minimum(1, np.exp(-(energie_etat - energie_etat_avant) / T)))\n",
    "        #print(np.exp(-(energie_etat - energie_etat_avant) / T))\n",
    "        if npr.rand() < np.minimum(1, np.exp((energie_etat - energie_etat_avant) /T)):\n",
    "            val_etat.append(etat[:]) \n",
    "        else: \n",
    "            etat = etat_avant[:]\n",
    "        # le bloc if qui suit a été ajouté après l'écriture de cette fonction, \n",
    "        # après tatonnement et estimation du potentiel du message décodé\n",
    "        if V(message_code, etat) >= -2.12:\n",
    "            print(\"message décodé en \", i, \"itération\")\n",
    "            break\n",
    "    return val_etat, energie_vals"
   ]
  },
  {
   "cell_type": "markdown",
   "metadata": {},
   "source": [
    "it = 15000 <br>\n",
    "h = 0.1"
   ]
  },
  {
   "cell_type": "code",
   "execution_count": 1033,
   "metadata": {},
   "outputs": [
    {
     "name": "stdout",
     "output_type": "stream",
     "text": [
      "message décodé en  3950 itération\n"
     ]
    },
    {
     "data": {
      "image/png": "[encoded data removed]",
      "text/plain": [
       "<Figure size 640x480 with 1 Axes>"
      ]
     },
     "metadata": {},
     "output_type": "display_data"
    }
   ],
   "source": [
    "# Exécution de l'algorithme\n",
    "it = 7500\n",
    "h = 0.1\n",
    "permutions, energie_vals = recuit_simule_decrypt(message, it, h)\n",
    "plt.plot(energie_vals)\n",
    "plt.title(\"Évolution de l'énergie en fonction des itérations\")\n",
    "plt.axhline(y=-2.12, linestyle='--', color='k')\n",
    "plt.show()"
   ]
  },
  {
   "cell_type": "code",
   "execution_count": 1034,
   "metadata": {},
   "outputs": [
    {
     "name": "stdout",
     "output_type": "stream",
     "text": [
      "permutation final --->  ['X', 'J', 'D', 'G', 'S', 'W', 'N', 'Z', 'I', 'B', 'M', 'L', 'H', 'A', ' ', 'R', 'F', 'P', 'E', 'U', 'Y', 'K', 'V', 'Q', 'O', 'T', 'C']\n",
      "potentiel du message décodé via la dernière permutation obtenue -2.08478489364319\n",
      "['N', 'E', ' ', 'D', 'E', 'M', 'A', 'N', 'D', 'E', ' ', 'P', 'O', 'I', 'N', 'T', ' ', 'Q', 'U', 'E', ' ', 'L', 'E', 'S', ' ', 'C', 'H', 'O', 'S', 'E', 'S', ' ', 'A', 'R', 'R', 'I', 'G', 'E', 'N', 'T', ' ', 'C', 'O', 'M', 'M', 'E', ' ', 'T', 'U', ' ', 'L', 'E', 'S', ' ', 'D', 'E', 'S', 'I', 'R', 'E', 'S', ' ', 'M', 'A', 'I', 'S', ' ', 'D', 'E', 'S', 'I', 'R', 'E', ' ', 'Q', 'U', ' ', 'E', 'L', 'L', 'E', 'S', ' ', 'A', 'R', 'R', 'I', 'G', 'E', 'N', 'T', ' ', 'C', 'O', 'M', 'M', 'E', ' ', 'E', 'L', 'L', 'E', 'S', ' ', 'A', 'R', 'R', 'I', 'G', 'E', 'N', 'T', ' ', 'E', 'T', ' ', 'T', 'U', ' ', 'P', 'R', 'O', 'S', 'P', 'E', 'R', 'E', 'R', 'A', 'S', ' ', 'T', 'O', 'U', 'V', 'O', 'U', 'R', 'S', ' ', 'E', 'P', 'I', 'C', 'T', 'E', 'T', 'E']\n"
     ]
    }
   ],
   "source": [
    "final_permu = permutions[-1]\n",
    "print(\"permutation final ---> \",final_permu)\n",
    "print(\"potentiel du message décodé via la dernière permutation obtenue\", V(message, final_permu))\n",
    "message_decoder = dechiffrer_message(message, final_permu)\n",
    "print(message_decoder)"
   ]
  },
  {
   "cell_type": "code",
   "execution_count": 1035,
   "metadata": {},
   "outputs": [
    {
     "name": "stdout",
     "output_type": "stream",
     "text": [
      "message décodé en  4168 itération\n",
      "['N', 'E', ' ', 'D', 'E', 'M', 'A', 'N', 'D', 'E', ' ', 'P', 'O', 'I', 'N', 'T', ' ', 'Q', 'U', 'E', ' ', 'L', 'E', 'S', ' ', 'C', 'H', 'O', 'S', 'E', 'S', ' ', 'A', 'R', 'R', 'I', 'V', 'E', 'N', 'T', ' ', 'C', 'O', 'M', 'M', 'E', ' ', 'T', 'U', ' ', 'L', 'E', 'S', ' ', 'D', 'E', 'S', 'I', 'R', 'E', 'S', ' ', 'M', 'A', 'I', 'S', ' ', 'D', 'E', 'S', 'I', 'R', 'E', ' ', 'Q', 'U', ' ', 'E', 'L', 'L', 'E', 'S', ' ', 'A', 'R', 'R', 'I', 'V', 'E', 'N', 'T', ' ', 'C', 'O', 'M', 'M', 'E', ' ', 'E', 'L', 'L', 'E', 'S', ' ', 'A', 'R', 'R', 'I', 'V', 'E', 'N', 'T', ' ', 'E', 'T', ' ', 'T', 'U', ' ', 'P', 'R', 'O', 'S', 'P', 'E', 'R', 'E', 'R', 'A', 'S', ' ', 'T', 'O', 'U', 'J', 'O', 'U', 'R', 'S', ' ', 'E', 'P', 'I', 'C', 'T', 'E', 'T', 'E']\n",
      "-2.097564325260094\n",
      "\n",
      "\n",
      "message décodé en  6725 itération\n",
      "['N', 'E', ' ', 'D', 'E', 'M', 'A', 'N', 'D', 'E', ' ', 'P', 'O', 'I', 'N', 'T', ' ', 'Q', 'U', 'E', ' ', 'L', 'E', 'S', ' ', 'C', 'H', 'O', 'S', 'E', 'S', ' ', 'A', 'R', 'R', 'I', 'G', 'E', 'N', 'T', ' ', 'C', 'O', 'M', 'M', 'E', ' ', 'T', 'U', ' ', 'L', 'E', 'S', ' ', 'D', 'E', 'S', 'I', 'R', 'E', 'S', ' ', 'M', 'A', 'I', 'S', ' ', 'D', 'E', 'S', 'I', 'R', 'E', ' ', 'Q', 'U', ' ', 'E', 'L', 'L', 'E', 'S', ' ', 'A', 'R', 'R', 'I', 'G', 'E', 'N', 'T', ' ', 'C', 'O', 'M', 'M', 'E', ' ', 'E', 'L', 'L', 'E', 'S', ' ', 'A', 'R', 'R', 'I', 'G', 'E', 'N', 'T', ' ', 'E', 'T', ' ', 'T', 'U', ' ', 'P', 'R', 'O', 'S', 'P', 'E', 'R', 'E', 'R', 'A', 'S', ' ', 'T', 'O', 'U', 'J', 'O', 'U', 'R', 'S', ' ', 'E', 'P', 'I', 'C', 'T', 'E', 'T', 'E']\n",
      "-2.0966403136613727\n",
      "\n",
      "\n",
      "['N', ' ', 'A', 'C', ' ', 'L', 'I', 'N', 'C', ' ', 'A', 'Y', 'E', 'O', 'N', 'T', 'A', 'G', 'R', ' ', 'A', 'M', ' ', 'P', 'A', 'B', 'J', 'E', 'P', ' ', 'P', 'A', 'I', 'S', 'S', 'O', 'U', ' ', 'N', 'T', 'A', 'B', 'E', 'L', 'L', ' ', 'A', 'T', 'R', 'A', 'M', ' ', 'P', 'A', 'C', ' ', 'P', 'O', 'S', ' ', 'P', 'A', 'L', 'I', 'O', 'P', 'A', 'C', ' ', 'P', 'O', 'S', ' ', 'A', 'G', 'R', 'A', ' ', 'M', 'M', ' ', 'P', 'A', 'I', 'S', 'S', 'O', 'U', ' ', 'N', 'T', 'A', 'B', 'E', 'L', 'L', ' ', 'A', ' ', 'M', 'M', ' ', 'P', 'A', 'I', 'S', 'S', 'O', 'U', ' ', 'N', 'T', 'A', ' ', 'T', 'A', 'T', 'R', 'A', 'Y', 'S', 'E', 'P', 'Y', ' ', 'S', ' ', 'S', 'I', 'P', 'A', 'T', 'E', 'R', 'D', 'E', 'R', 'S', 'P', 'A', ' ', 'Y', 'O', 'B', 'T', ' ', 'T', ' ']\n",
      "-3.007085657008964\n",
      "\n",
      "\n",
      "['I', 'E', ' ', 'L', 'E', 'N', 'D', 'I', 'L', 'E', ' ', 'P', 'O', 'A', 'I', 'T', ' ', 'Q', 'U', 'E', ' ', 'M', 'E', 'S', ' ', 'C', 'H', 'O', 'S', 'E', 'S', ' ', 'D', 'R', 'R', 'A', 'V', 'E', 'I', 'T', ' ', 'C', 'O', 'N', 'N', 'E', ' ', 'T', 'U', ' ', 'M', 'E', 'S', ' ', 'L', 'E', 'S', 'A', 'R', 'E', 'S', ' ', 'N', 'D', 'A', 'S', ' ', 'L', 'E', 'S', 'A', 'R', 'E', ' ', 'Q', 'U', ' ', 'E', 'M', 'M', 'E', 'S', ' ', 'D', 'R', 'R', 'A', 'V', 'E', 'I', 'T', ' ', 'C', 'O', 'N', 'N', 'E', ' ', 'E', 'M', 'M', 'E', 'S', ' ', 'D', 'R', 'R', 'A', 'V', 'E', 'I', 'T', ' ', 'E', 'T', ' ', 'T', 'U', ' ', 'P', 'R', 'O', 'S', 'P', 'E', 'R', 'E', 'R', 'D', 'S', ' ', 'T', 'O', 'U', 'J', 'O', 'U', 'R', 'S', ' ', 'E', 'P', 'A', 'C', 'T', 'E', 'T', 'E']\n",
      "-2.2403282392569723\n",
      "\n",
      "\n",
      "message décodé en  6986 itération\n",
      "['N', 'E', ' ', 'D', 'E', 'M', 'A', 'N', 'D', 'E', ' ', 'P', 'O', 'I', 'N', 'T', ' ', 'Q', 'U', 'E', ' ', 'L', 'E', 'S', ' ', 'C', 'H', 'O', 'S', 'E', 'S', ' ', 'A', 'R', 'R', 'I', 'G', 'E', 'N', 'T', ' ', 'C', 'O', 'M', 'M', 'E', ' ', 'T', 'U', ' ', 'L', 'E', 'S', ' ', 'D', 'E', 'S', 'I', 'R', 'E', 'S', ' ', 'M', 'A', 'I', 'S', ' ', 'D', 'E', 'S', 'I', 'R', 'E', ' ', 'Q', 'U', ' ', 'E', 'L', 'L', 'E', 'S', ' ', 'A', 'R', 'R', 'I', 'G', 'E', 'N', 'T', ' ', 'C', 'O', 'M', 'M', 'E', ' ', 'E', 'L', 'L', 'E', 'S', ' ', 'A', 'R', 'R', 'I', 'G', 'E', 'N', 'T', ' ', 'E', 'T', ' ', 'T', 'U', ' ', 'P', 'R', 'O', 'S', 'P', 'E', 'R', 'E', 'R', 'A', 'S', ' ', 'T', 'O', 'U', 'B', 'O', 'U', 'R', 'S', ' ', 'E', 'P', 'I', 'C', 'T', 'E', 'T', 'E']\n",
      "-2.1009261428302346\n",
      "\n",
      "\n",
      "['P', ' ', 'E', 'U', ' ', 'M', 'A', 'P', 'U', ' ', 'E', 'G', 'O', 'I', 'P', 'R', 'E', 'X', 'C', ' ', 'E', 'S', ' ', 'D', 'E', 'N', 'Y', 'O', 'D', ' ', 'D', 'E', 'A', 'L', 'L', 'I', 'T', ' ', 'P', 'R', 'E', 'N', 'O', 'M', 'M', ' ', 'E', 'R', 'C', 'E', 'S', ' ', 'D', 'E', 'U', ' ', 'D', 'I', 'L', ' ', 'D', 'E', 'M', 'A', 'I', 'D', 'E', 'U', ' ', 'D', 'I', 'L', ' ', 'E', 'X', 'C', 'E', ' ', 'S', 'S', ' ', 'D', 'E', 'A', 'L', 'L', 'I', 'T', ' ', 'P', 'R', 'E', 'N', 'O', 'M', 'M', ' ', 'E', ' ', 'S', 'S', ' ', 'D', 'E', 'A', 'L', 'L', 'I', 'T', ' ', 'P', 'R', 'E', ' ', 'R', 'E', 'R', 'C', 'E', 'G', 'L', 'O', 'D', 'G', ' ', 'L', ' ', 'L', 'A', 'D', 'E', 'R', 'O', 'C', 'H', 'O', 'C', 'L', 'D', 'E', ' ', 'G', 'I', 'N', 'R', ' ', 'R', ' ']\n",
      "-2.8550931088018974\n",
      "\n",
      "\n",
      "message décodé en  3746 itération\n",
      "['N', 'E', ' ', 'D', 'E', 'M', 'A', 'N', 'D', 'E', ' ', 'F', 'O', 'I', 'N', 'T', ' ', 'Q', 'U', 'E', ' ', 'L', 'E', 'S', ' ', 'C', 'H', 'O', 'S', 'E', 'S', ' ', 'A', 'R', 'R', 'I', 'G', 'E', 'N', 'T', ' ', 'C', 'O', 'M', 'M', 'E', ' ', 'T', 'U', ' ', 'L', 'E', 'S', ' ', 'D', 'E', 'S', 'I', 'R', 'E', 'S', ' ', 'M', 'A', 'I', 'S', ' ', 'D', 'E', 'S', 'I', 'R', 'E', ' ', 'Q', 'U', ' ', 'E', 'L', 'L', 'E', 'S', ' ', 'A', 'R', 'R', 'I', 'G', 'E', 'N', 'T', ' ', 'C', 'O', 'M', 'M', 'E', ' ', 'E', 'L', 'L', 'E', 'S', ' ', 'A', 'R', 'R', 'I', 'G', 'E', 'N', 'T', ' ', 'E', 'T', ' ', 'T', 'U', ' ', 'F', 'R', 'O', 'S', 'F', 'E', 'R', 'E', 'R', 'A', 'S', ' ', 'T', 'O', 'U', 'V', 'O', 'U', 'R', 'S', ' ', 'E', 'F', 'I', 'C', 'T', 'E', 'T', 'E']\n",
      "-2.11896323306725\n",
      "\n",
      "\n",
      "message décodé en  2512 itération\n",
      "['N', 'E', ' ', 'D', 'E', 'M', 'A', 'N', 'D', 'E', ' ', 'P', 'O', 'I', 'N', 'T', ' ', 'Q', 'U', 'E', ' ', 'L', 'E', 'S', ' ', 'C', 'H', 'O', 'S', 'E', 'S', ' ', 'A', 'R', 'R', 'I', 'V', 'E', 'N', 'T', ' ', 'C', 'O', 'M', 'M', 'E', ' ', 'T', 'U', ' ', 'L', 'E', 'S', ' ', 'D', 'E', 'S', 'I', 'R', 'E', 'S', ' ', 'M', 'A', 'I', 'S', ' ', 'D', 'E', 'S', 'I', 'R', 'E', ' ', 'Q', 'U', ' ', 'E', 'L', 'L', 'E', 'S', ' ', 'A', 'R', 'R', 'I', 'V', 'E', 'N', 'T', ' ', 'C', 'O', 'M', 'M', 'E', ' ', 'E', 'L', 'L', 'E', 'S', ' ', 'A', 'R', 'R', 'I', 'V', 'E', 'N', 'T', ' ', 'E', 'T', ' ', 'T', 'U', ' ', 'P', 'R', 'O', 'S', 'P', 'E', 'R', 'E', 'R', 'A', 'S', ' ', 'T', 'O', 'U', 'F', 'O', 'U', 'R', 'S', ' ', 'E', 'P', 'I', 'C', 'T', 'E', 'T', 'E']\n",
      "-2.10106295984129\n",
      "\n",
      "\n",
      "['B', 'E', ' ', 'D', 'E', 'M', 'A', 'B', 'D', 'E', ' ', 'C', 'O', 'I', 'B', 'L', ' ', 'Q', 'U', 'E', ' ', 'S', 'E', 'N', ' ', 'P', 'H', 'O', 'N', 'E', 'N', ' ', 'A', 'R', 'R', 'I', 'V', 'E', 'B', 'L', ' ', 'P', 'O', 'M', 'M', 'E', ' ', 'L', 'U', ' ', 'S', 'E', 'N', ' ', 'D', 'E', 'N', 'I', 'R', 'E', 'N', ' ', 'M', 'A', 'I', 'N', ' ', 'D', 'E', 'N', 'I', 'R', 'E', ' ', 'Q', 'U', ' ', 'E', 'S', 'S', 'E', 'N', ' ', 'A', 'R', 'R', 'I', 'V', 'E', 'B', 'L', ' ', 'P', 'O', 'M', 'M', 'E', ' ', 'E', 'S', 'S', 'E', 'N', ' ', 'A', 'R', 'R', 'I', 'V', 'E', 'B', 'L', ' ', 'E', 'L', ' ', 'L', 'U', ' ', 'C', 'R', 'O', 'N', 'C', 'E', 'R', 'E', 'R', 'A', 'N', ' ', 'L', 'O', 'U', 'J', 'O', 'U', 'R', 'N', ' ', 'E', 'C', 'I', 'P', 'L', 'E', 'L', 'E']\n",
      "-2.9388732372682806\n",
      "\n",
      "\n",
      "message décodé en  5657 itération\n",
      "['N', 'E', ' ', 'D', 'E', 'M', 'A', 'N', 'D', 'E', ' ', 'P', 'O', 'I', 'N', 'T', ' ', 'Q', 'U', 'E', ' ', 'L', 'E', 'S', ' ', 'C', 'H', 'O', 'S', 'E', 'S', ' ', 'A', 'R', 'R', 'I', 'F', 'E', 'N', 'T', ' ', 'C', 'O', 'M', 'M', 'E', ' ', 'T', 'U', ' ', 'L', 'E', 'S', ' ', 'D', 'E', 'S', 'I', 'R', 'E', 'S', ' ', 'M', 'A', 'I', 'S', ' ', 'D', 'E', 'S', 'I', 'R', 'E', ' ', 'Q', 'U', ' ', 'E', 'L', 'L', 'E', 'S', ' ', 'A', 'R', 'R', 'I', 'F', 'E', 'N', 'T', ' ', 'C', 'O', 'M', 'M', 'E', ' ', 'E', 'L', 'L', 'E', 'S', ' ', 'A', 'R', 'R', 'I', 'F', 'E', 'N', 'T', ' ', 'E', 'T', ' ', 'T', 'U', ' ', 'P', 'R', 'O', 'S', 'P', 'E', 'R', 'E', 'R', 'A', 'S', ' ', 'T', 'O', 'U', 'V', 'O', 'U', 'R', 'S', ' ', 'E', 'P', 'I', 'C', 'T', 'E', 'T', 'E']\n",
      "-2.1156970113849622\n",
      "\n",
      "\n"
     ]
    }
   ],
   "source": [
    "ens_energi = []\n",
    "ens_mess_fin =[]\n",
    "for i in range(10):\n",
    "    permutions, energie_vals = recuit_simule_decrypt(message, it, h)\n",
    "    print(dechiffrer_message(message, permutions[-1]))\n",
    "    print(energie_vals[-1])\n",
    "    print(\"\\n\")\n",
    "    ens_energi.append(energie_vals[-1])\n",
    "    ens_mess_fin.append(dechiffrer_message(message, permutions[-1]))"
   ]
  },
  {
   "cell_type": "code",
   "execution_count": 1036,
   "metadata": {},
   "outputs": [
    {
     "name": "stdout",
     "output_type": "stream",
     "text": [
      "on réussi à décoder 6 fois sur 20\n"
     ]
    },
    {
     "data": {
      "image/png": "[encoded data removed]",
      "text/plain": [
       "<Figure size 640x480 with 1 Axes>"
      ]
     },
     "metadata": {},
     "output_type": "display_data"
    }
   ],
   "source": [
    "plt.scatter(list(range(len(ens_energi))), ens_energi)\n",
    "plt.axhline(y=-2.12)\n",
    "print(\"on réussi à décoder\", sum(np.array(ens_energi) >= -2.12), \"fois sur 20\")"
   ]
  },
  {
   "cell_type": "code",
   "execution_count": null,
   "metadata": {},
   "outputs": [],
   "source": []
  }
 ],
 "metadata": {
  "kernelspec": {
   "display_name": "base",
   "language": "python",
   "name": "python3"
  },
  "language_info": {
   "codemirror_mode": {
    "name": "ipython",
    "version": 3
   },
   "file_extension": ".py",
   "mimetype": "text/x-python",
   "name": "python",
   "nbconvert_exporter": "python",
   "pygments_lexer": "ipython3",
   "version": "3.11.5"
  }
 },
 "nbformat": 4,
 "nbformat_minor": 2
}
