{
 "cells": [
  {
   "cell_type": "code",
   "execution_count": 182,
   "metadata": {},
   "outputs": [],
   "source": [
    "import numpy as np\n",
    "import numpy.random as npr\n",
    "import matplotlib.pyplot as plt\n",
    "import random\n",
    "from collections import Counter\n",
    "import time"
   ]
  },
  {
   "cell_type": "code",
   "execution_count": 183,
   "metadata": {},
   "outputs": [],
   "source": [
    "#chargement de données et interpreté comme matrice de proba\n",
    "matrice_proba = np.loadtxt('transitions_alphabets.txt')"
   ]
  },
  {
   "cell_type": "code",
   "execution_count": 184,
   "metadata": {},
   "outputs": [],
   "source": [
    "# Charger le message à chiffré\n",
    "#with open('MSG.txt', 'r') as f:\n",
    "#    message = list(f.read().strip().upper())  # Lis le message, supprime les espaces inutiles et convertit en majuscules\n",
    "\n",
    "#print(\"Message à déchiffrer est\", message)"
   ]
  },
  {
   "cell_type": "code",
   "execution_count": 185,
   "metadata": {},
   "outputs": [
    {
     "name": "stdout",
     "output_type": "stream",
     "text": [
      "Alphabet ---> [' ', 'A', 'B', 'C', 'D', 'E', 'F', 'G', 'H', 'I', 'J', 'K', 'L', 'M', 'N', 'O', 'P', 'Q', 'R', 'S', 'T', 'U', 'V', 'W', 'X', 'Y', 'Z']\n"
     ]
    }
   ],
   "source": [
    "# Construire l'alphabet avec l'espace comme premier caractère\n",
    "alphabet = [' '] + [chr(i) for i in range(ord('A'), ord('Z') + 1)]\n",
    "\n",
    "print(\"Alphabet --->\", alphabet)\n"
   ]
  },
  {
   "cell_type": "code",
   "execution_count": 186,
   "metadata": {},
   "outputs": [
    {
     "data": {
      "text/plain": [
       "(27, 27)"
      ]
     },
     "execution_count": 186,
     "metadata": {},
     "output_type": "execute_result"
    }
   ],
   "source": [
    "#verification \n",
    "np.shape(matrice_proba)"
   ]
  },
  {
   "cell_type": "code",
   "execution_count": 187,
   "metadata": {},
   "outputs": [
    {
     "name": "stdout",
     "output_type": "stream",
     "text": [
      "[[0.00000000e+00 9.09075846e-02 1.48907496e-02 7.03168151e-02\n",
      "  1.16115812e-01 9.71046992e-02 2.63294523e-02 9.97503480e-03\n",
      "  7.25206018e-03 3.42829684e-02 2.08724565e-02 4.97094757e-05\n",
      "  9.04933389e-02 5.34542562e-02 2.92346950e-02 2.15407728e-02\n",
      "  8.13744118e-02 5.32222787e-02 2.69204427e-02 6.96982082e-02\n",
      "  2.81742262e-02 2.65890462e-02 2.69977686e-02 6.07560259e-05\n",
      "  1.10465502e-04 3.88838566e-03 1.43605152e-04]\n",
      " [1.55572450e-01 1.46200968e-05 1.57750844e-02 2.29096917e-02\n",
      "  8.07029343e-03 1.75441161e-04 2.35383558e-03 1.78218980e-02\n",
      "  1.65207094e-03 2.61348850e-01 1.69593123e-03 1.46200968e-05\n",
      "  3.35531221e-02 2.45471425e-02 1.46654191e-01 3.07022032e-04\n",
      "  1.98540914e-02 3.88894574e-03 7.20770772e-02 4.48252167e-02\n",
      "  3.29390781e-02 6.50594307e-02 6.22523721e-02 0.00000000e+00\n",
      "  1.02340677e-04 6.12582055e-03 4.09362710e-04]\n",
      " [1.93143409e-03 8.32126187e-02 8.04764204e-04 0.00000000e+00\n",
      "  1.28762273e-03 1.51939482e-01 0.00000000e+00 0.00000000e+00\n",
      "  1.60952841e-04 1.69805247e-01 8.69145340e-03 0.00000000e+00\n",
      "  2.56236923e-01 4.82858522e-04 0.00000000e+00 1.28762273e-01\n",
      "  0.00000000e+00 0.00000000e+00 1.43248028e-01 3.23515210e-02\n",
      "  3.54096250e-03 1.69000483e-02 3.21905682e-04 0.00000000e+00\n",
      "  0.00000000e+00 3.21905682e-04 0.00000000e+00]\n",
      " [8.18490424e-02 6.79770337e-02 0.00000000e+00 1.27404551e-02\n",
      "  8.38187838e-05 2.52545996e-01 0.00000000e+00 0.00000000e+00\n",
      "  1.55567663e-01 4.89920791e-02 0.00000000e+00 3.35275135e-04\n",
      "  2.05356020e-02 0.00000000e+00 0.00000000e+00 2.48103600e-01\n",
      "  0.00000000e+00 5.86731487e-04 3.92691002e-02 1.46682872e-03\n",
      "  3.15996815e-02 3.71736306e-02 0.00000000e+00 0.00000000e+00\n",
      "  0.00000000e+00 1.08964419e-03 8.38187838e-05]\n",
      " [1.81469738e-01 8.47067842e-02 0.00000000e+00 0.00000000e+00\n",
      "  1.04533259e-04 4.84894944e-01 0.00000000e+00 3.48444197e-05\n",
      "  2.78755357e-04 9.17105126e-02 6.96888393e-05 0.00000000e+00\n",
      "  0.00000000e+00 2.26488728e-03 0.00000000e+00 5.23363183e-02\n",
      "  0.00000000e+00 0.00000000e+00 3.06630893e-02 6.69012858e-03\n",
      "  3.13599777e-04 6.43576431e-02 3.48444197e-05 0.00000000e+00\n",
      "  0.00000000e+00 6.96888393e-05 0.00000000e+00]\n",
      " [3.96981573e-01 8.63382428e-03 9.77843136e-04 2.05043851e-02\n",
      "  3.25189694e-03 1.27195409e-02 4.54052743e-03 5.66239397e-03\n",
      "  6.59475603e-04 6.73877944e-03 1.79650251e-03 0.00000000e+00\n",
      "  4.64968201e-02 3.50431691e-02 1.07820471e-01 9.09621522e-04\n",
      "  9.72537010e-03 8.94461163e-04 7.65219105e-02 1.14460708e-01\n",
      "  7.84093752e-02 4.49656239e-02 1.14688114e-02 0.00000000e+00\n",
      "  4.51778689e-03 1.74344125e-04 6.12478491e-03]\n",
      " [1.77071216e-02 2.48933695e-01 0.00000000e+00 0.00000000e+00\n",
      "  0.00000000e+00 1.37908750e-01 9.64198010e-02 0.00000000e+00\n",
      "  0.00000000e+00 1.38425746e-01 0.00000000e+00 0.00000000e+00\n",
      "  5.05363836e-02 0.00000000e+00 0.00000000e+00 1.56779113e-01\n",
      "  0.00000000e+00 0.00000000e+00 9.51273103e-02 5.16996252e-03\n",
      "  5.16996252e-04 5.24751196e-02 0.00000000e+00 0.00000000e+00\n",
      "  0.00000000e+00 0.00000000e+00 0.00000000e+00]\n",
      " [1.85909980e-02 1.07795173e-01 0.00000000e+00 0.00000000e+00\n",
      "  0.00000000e+00 3.36921070e-01 0.00000000e+00 1.79386823e-03\n",
      "  6.52315721e-04 7.69732551e-02 0.00000000e+00 0.00000000e+00\n",
      "  3.42465753e-02 1.63078930e-03 9.67058056e-02 4.56621005e-02\n",
      "  0.00000000e+00 0.00000000e+00 1.71722114e-01 1.46771037e-03\n",
      "  1.90802348e-02 8.54533594e-02 0.00000000e+00 0.00000000e+00\n",
      "  0.00000000e+00 1.30463144e-03 0.00000000e+00]\n",
      " [2.99102692e-02 2.88966434e-01 0.00000000e+00 0.00000000e+00\n",
      "  0.00000000e+00 4.25058159e-01 0.00000000e+00 0.00000000e+00\n",
      "  0.00000000e+00 6.46394151e-02 0.00000000e+00 0.00000000e+00\n",
      "  0.00000000e+00 1.49551346e-03 4.98504487e-04 1.35427052e-01\n",
      "  0.00000000e+00 0.00000000e+00 1.76138252e-02 4.98504487e-04\n",
      "  4.98504487e-04 2.72515786e-02 0.00000000e+00 0.00000000e+00\n",
      "  0.00000000e+00 8.14223995e-03 0.00000000e+00]\n",
      " [1.34957841e-01 9.47537562e-03 6.07948051e-03 1.52566800e-02\n",
      "  1.15294780e-02 1.05454967e-01 7.93479881e-03 1.49253731e-02\n",
      "  0.00000000e+00 3.47872182e-04 1.32522736e-04 0.00000000e+00\n",
      "  9.77189524e-02 2.30258254e-02 9.89282224e-02 3.09937549e-02\n",
      "  2.02097172e-03 9.80668246e-03 7.25396326e-02 1.41948416e-01\n",
      "  1.98270578e-01 1.32522736e-04 1.53229413e-02 0.00000000e+00\n",
      "  2.68358540e-03 0.00000000e+00 5.13525602e-04]\n",
      " [1.71282960e-01 1.29403944e-01 0.00000000e+00 0.00000000e+00\n",
      "  0.00000000e+00 3.92865057e-01 0.00000000e+00 0.00000000e+00\n",
      "  0.00000000e+00 0.00000000e+00 0.00000000e+00 0.00000000e+00\n",
      "  0.00000000e+00 0.00000000e+00 0.00000000e+00 2.33325947e-01\n",
      "  0.00000000e+00 0.00000000e+00 0.00000000e+00 0.00000000e+00\n",
      "  0.00000000e+00 7.31220917e-02 0.00000000e+00 0.00000000e+00\n",
      "  0.00000000e+00 0.00000000e+00 0.00000000e+00]\n",
      " [8.69565217e-02 8.69565217e-02 0.00000000e+00 0.00000000e+00\n",
      "  0.00000000e+00 3.47826087e-01 0.00000000e+00 0.00000000e+00\n",
      "  0.00000000e+00 2.17391304e-01 0.00000000e+00 0.00000000e+00\n",
      "  0.00000000e+00 0.00000000e+00 0.00000000e+00 4.34782609e-02\n",
      "  0.00000000e+00 0.00000000e+00 4.34782609e-02 4.34782609e-02\n",
      "  0.00000000e+00 4.34782609e-02 0.00000000e+00 0.00000000e+00\n",
      "  0.00000000e+00 8.69565217e-02 0.00000000e+00]\n",
      " [1.82678559e-01 1.60799800e-01 3.38167540e-03 5.44699394e-04\n",
      "  2.49653889e-04 3.30110529e-01 2.26958081e-04 1.86105626e-03\n",
      "  1.49792333e-03 4.91137287e-02 0.00000000e+00 2.26958081e-05\n",
      "  1.30727855e-01 9.53223940e-04 2.26958081e-05 3.13429110e-02\n",
      "  9.98615556e-04 1.00542430e-02 0.00000000e+00 1.30046980e-02\n",
      "  2.54193051e-03 7.82551463e-02 2.95045505e-04 0.00000000e+00\n",
      "  0.00000000e+00 1.24826944e-03 6.80874243e-05]\n",
      " [4.83028721e-02 1.92313969e-01 4.00212141e-02 0.00000000e+00\n",
      "  0.00000000e+00 3.51542102e-01 0.00000000e+00 0.00000000e+00\n",
      "  0.00000000e+00 6.13984987e-02 0.00000000e+00 0.00000000e+00\n",
      "  1.55026110e-03 9.99918407e-02 9.79112272e-04 1.17656658e-01\n",
      "  6.73139687e-02 0.00000000e+00 0.00000000e+00 1.22389034e-03\n",
      "  9.38315927e-04 1.43195170e-02 0.00000000e+00 0.00000000e+00\n",
      "  0.00000000e+00 2.44778068e-03 0.00000000e+00]\n",
      " [2.50654973e-01 3.72730820e-02 3.71615972e-05 5.09671306e-02\n",
      "  6.69094558e-02 1.25123098e-01 7.09786507e-03 1.42886341e-02\n",
      "  1.46788309e-03 2.45638158e-02 3.90196771e-04 3.71615972e-05\n",
      "  4.45939166e-04 7.43231944e-05 4.49655326e-02 3.94470354e-02\n",
      "  0.00000000e+00 2.71279660e-03 9.10459132e-04 8.88719597e-02\n",
      "  2.20498337e-01 1.37126294e-02 8.54716736e-03 0.00000000e+00\n",
      "  3.90196771e-04 3.34454375e-04 2.78711979e-04]\n",
      " [1.52464548e-02 1.26842386e-04 1.04518126e-02 1.60075091e-02\n",
      "  1.74535123e-02 7.53443771e-03 4.92148456e-03 3.62769223e-03\n",
      "  1.06547604e-03 1.11849616e-01 6.34211928e-04 2.53684771e-05\n",
      "  2.16900479e-02 8.35891321e-02 2.50640554e-01 2.79053248e-04\n",
      "  1.13143408e-02 2.84126944e-03 7.35432152e-02 3.00362769e-02\n",
      "  2.94528019e-02 2.92625384e-01 1.62358254e-03 0.00000000e+00\n",
      "  2.02947817e-04 1.30901342e-02 1.26842386e-04]\n",
      " [1.60316091e-02 2.49648031e-01 0.00000000e+00 1.95285889e-03\n",
      "  0.00000000e+00 1.65765929e-01 0.00000000e+00 0.00000000e+00\n",
      "  1.38516736e-02 3.03828512e-02 0.00000000e+00 0.00000000e+00\n",
      "  1.05181888e-01 0.00000000e+00 9.08306463e-05 1.61496889e-01\n",
      "  3.87392706e-02 0.00000000e+00 1.49053091e-01 2.15268632e-02\n",
      "  1.14900768e-02 3.46518915e-02 0.00000000e+00 0.00000000e+00\n",
      "  0.00000000e+00 1.36245969e-04 0.00000000e+00]\n",
      " [1.89393939e-03 0.00000000e+00 0.00000000e+00 0.00000000e+00\n",
      "  0.00000000e+00 0.00000000e+00 0.00000000e+00 0.00000000e+00\n",
      "  0.00000000e+00 0.00000000e+00 0.00000000e+00 0.00000000e+00\n",
      "  0.00000000e+00 0.00000000e+00 0.00000000e+00 0.00000000e+00\n",
      "  0.00000000e+00 0.00000000e+00 0.00000000e+00 0.00000000e+00\n",
      "  0.00000000e+00 9.98106061e-01 0.00000000e+00 0.00000000e+00\n",
      "  0.00000000e+00 0.00000000e+00 0.00000000e+00]\n",
      " [2.32185749e-01 1.11822792e-01 2.97674037e-03 2.16378231e-02\n",
      "  2.63595492e-02 3.07815483e-01 2.87409415e-03 5.72765905e-03\n",
      "  4.10584878e-05 7.30841083e-02 6.15877317e-05 0.00000000e+00\n",
      "  5.56342510e-03 1.51095235e-02 8.19116832e-03 5.82209357e-02\n",
      "  2.93568188e-03 2.62774322e-03 1.89279629e-02 3.91082096e-02\n",
      "  4.67861469e-02 1.15374351e-02 5.76871754e-03 0.00000000e+00\n",
      "  0.00000000e+00 5.13231098e-04 1.23175463e-04]\n",
      " [4.93119109e-01 7.71752493e-02 0.00000000e+00 6.26622046e-03\n",
      "  1.70741702e-05 1.25939079e-01 5.46373446e-04 6.82966808e-05\n",
      "  2.04890042e-04 6.31573556e-02 3.41483404e-05 1.70741702e-05\n",
      "  5.12225106e-05 9.39079361e-04 2.39038383e-04 6.31915039e-02\n",
      "  9.88594454e-03 9.59568365e-03 5.12225106e-05 6.37037290e-02\n",
      "  4.43416200e-02 2.85992351e-02 3.41483404e-05 1.19006966e-02\n",
      "  0.00000000e+00 8.70782680e-04 5.12225106e-05]\n",
      " [4.47451296e-01 9.40933060e-02 3.66193057e-05 9.15482642e-05\n",
      "  0.00000000e+00 1.80423319e-01 0.00000000e+00 0.00000000e+00\n",
      "  4.37600703e-03 7.00161125e-02 1.83096528e-04 0.00000000e+00\n",
      "  3.66193057e-04 3.29573751e-04 0.00000000e+00 4.48220302e-02\n",
      "  1.83096528e-05 0.00000000e+00 8.21004834e-02 1.75589571e-02\n",
      "  3.86150579e-02 1.89871100e-02 0.00000000e+00 1.83096528e-05\n",
      "  0.00000000e+00 5.12670280e-04 0.00000000e+00]\n",
      " [1.89718906e-01 1.82710820e-02 4.73623412e-03 1.27647285e-02\n",
      "  7.68194070e-03 1.32441278e-01 4.37042742e-03 3.15748941e-03\n",
      "  5.19830574e-04 1.00308048e-01 4.92876396e-03 0.00000000e+00\n",
      "  2.60877936e-02 7.58567578e-03 9.54755487e-02 2.32961109e-03\n",
      "  1.21678860e-02 1.46322680e-03 1.45745090e-01 9.38775510e-02\n",
      "  6.80400462e-02 0.00000000e+00 3.44050828e-02 0.00000000e+00\n",
      "  3.24220254e-02 1.38621486e-03 1.15517905e-04]\n",
      " [2.60416667e-03 2.86317568e-01 0.00000000e+00 0.00000000e+00\n",
      "  0.00000000e+00 3.13555743e-01 0.00000000e+00 0.00000000e+00\n",
      "  0.00000000e+00 1.45622185e-01 0.00000000e+00 0.00000000e+00\n",
      "  0.00000000e+00 0.00000000e+00 0.00000000e+00 1.93271396e-01\n",
      "  0.00000000e+00 0.00000000e+00 4.23001126e-02 0.00000000e+00\n",
      "  0.00000000e+00 1.59065315e-02 0.00000000e+00 0.00000000e+00\n",
      "  0.00000000e+00 4.22297297e-04 0.00000000e+00]\n",
      " [0.00000000e+00 9.97179126e-01 0.00000000e+00 0.00000000e+00\n",
      "  0.00000000e+00 0.00000000e+00 0.00000000e+00 0.00000000e+00\n",
      "  0.00000000e+00 2.82087447e-03 0.00000000e+00 0.00000000e+00\n",
      "  0.00000000e+00 0.00000000e+00 0.00000000e+00 0.00000000e+00\n",
      "  0.00000000e+00 0.00000000e+00 0.00000000e+00 0.00000000e+00\n",
      "  0.00000000e+00 0.00000000e+00 0.00000000e+00 0.00000000e+00\n",
      "  0.00000000e+00 0.00000000e+00 0.00000000e+00]\n",
      " [7.00960769e-01 3.08246597e-02 0.00000000e+00 3.76301041e-02\n",
      "  0.00000000e+00 4.36349079e-02 0.00000000e+00 0.00000000e+00\n",
      "  3.20256205e-03 5.68454764e-02 0.00000000e+00 0.00000000e+00\n",
      "  0.00000000e+00 0.00000000e+00 0.00000000e+00 8.00640512e-04\n",
      "  6.24499600e-02 2.04163331e-02 0.00000000e+00 0.00000000e+00\n",
      "  3.68294636e-02 4.00320256e-04 5.20416333e-03 0.00000000e+00\n",
      "  0.00000000e+00 8.00640512e-04 0.00000000e+00]\n",
      " [3.52771084e-01 2.50602410e-01 0.00000000e+00 4.33734940e-03\n",
      "  9.63855422e-04 1.75903614e-01 0.00000000e+00 2.89156627e-03\n",
      "  0.00000000e+00 1.92771084e-03 0.00000000e+00 0.00000000e+00\n",
      "  1.15662651e-02 2.89156627e-02 1.92771084e-03 3.80722892e-02\n",
      "  9.15662651e-03 0.00000000e+00 9.63855422e-03 1.05060241e-01\n",
      "  5.30120482e-03 4.81927711e-04 0.00000000e+00 0.00000000e+00\n",
      "  0.00000000e+00 0.00000000e+00 4.81927711e-04]\n",
      " [8.64605544e-01 1.27931770e-02 0.00000000e+00 0.00000000e+00\n",
      "  0.00000000e+00 5.65031983e-02 0.00000000e+00 0.00000000e+00\n",
      "  0.00000000e+00 2.13219616e-03 0.00000000e+00 0.00000000e+00\n",
      "  0.00000000e+00 0.00000000e+00 0.00000000e+00 3.73134328e-02\n",
      "  0.00000000e+00 0.00000000e+00 0.00000000e+00 0.00000000e+00\n",
      "  2.13219616e-03 1.49253731e-02 1.06609808e-03 0.00000000e+00\n",
      "  0.00000000e+00 4.26439232e-03 4.26439232e-03]]\n"
     ]
    }
   ],
   "source": [
    "#verification\n",
    "print(matrice_proba)"
   ]
  },
  {
   "cell_type": "code",
   "execution_count": 188,
   "metadata": {},
   "outputs": [],
   "source": [
    "def dechiffrer_message_dict(message_code, alphabet, permutation_alphabet):\n",
    "    \"\"\"\n",
    "    Déchiffre un message en utilisant un dictionnaire basé sur une permutation de l'alphabet.\n",
    "    \n",
    "    Args:\n",
    "        message_code (list): Message codé sous forme de liste de caractères.\n",
    "        alphabet (list): Alphabet d'origine (par exemple, [' ', 'A', ..., 'Z']).\n",
    "        permutation_alphabet (list): Permutation de l'alphabet pour le déchiffrement.\n",
    "\n",
    "    Returns:\n",
    "        list: Message décodé sous forme de liste de caractères.\n",
    "    \"\"\"\n",
    "    # Vérification de la correspondance des tailles\n",
    "    if len(alphabet) != len(permutation_alphabet):\n",
    "        raise ValueError(\"L'alphabet et la permutation doivent avoir la même longueur.\")\n",
    "\n",
    "    # Création du dictionnaire pour la correspondance inverse\n",
    "    decrypt_dict = {permutation_alphabet[i]: alphabet[i] for i in range(len(alphabet))}\n",
    "    \n",
    "    # Décodage du message\n",
    "    message_dechiffre = [decrypt_dict[char] for char in message_code if char in decrypt_dict]\n",
    "    return message_dechiffre\n"
   ]
  },
  {
   "cell_type": "code",
   "execution_count": 189,
   "metadata": {},
   "outputs": [],
   "source": [
    "def calculer_V(texte, matrice_proba, alphabet, permutation_alphabet):\n",
    "    \"\"\"\n",
    "    Calcule la vraisemblance logarithmique d'un texte en utilisant une matrice de probabilités.\n",
    "    \n",
    "    Args:\n",
    "        texte (list): Message sous forme de liste de caractères.\n",
    "        matrice_proba : Matrice des probabilités de transition (27x27).\n",
    "        alphabet (list): Alphabet d'origine (par exemple, [' ', 'A', ..., 'Z']).\n",
    "        permutation_alphabet (list): Permutation de l'alphabet utilisée pour déchiffrer.\n",
    "\n",
    "    Returns:\n",
    "        float: Valeur normalisée de la vraisemblance logarithmique.\n",
    "    \"\"\"\n",
    "    # Déchiffrer le texte\n",
    "    texte_dechiffre = dechiffrer_message_dict(texte, alphabet, permutation_alphabet)\n",
    "    \n",
    "    V = 0  # Initialiser la vraisemblance\n",
    "    \n",
    "    # Calcul de la vraisemblance logarithmique\n",
    "    for i in range(len(texte_dechiffre) - 1):\n",
    "        c1, c2 = texte_dechiffre[i], texte_dechiffre[i + 1]\n",
    "        idx1 = 0 if c1 == ' ' else alphabet.index(c1)\n",
    "        idx2 = 0 if c2 == ' ' else alphabet.index(c2)\n",
    "        V += np.log(matrice_proba[idx1][idx2] + 1e-15)  # Ajoute d'une petite valeur pour éviter log(0)\n",
    "    \n",
    "    # Normalisation par la longueur du texte\n",
    "    return V / len(texte_dechiffre)\n"
   ]
  },
  {
   "cell_type": "code",
   "execution_count": 190,
   "metadata": {},
   "outputs": [],
   "source": [
    "def recuit_simule_decrypt(message_code, matrice_proba, alphabet, max_iter, h):\n",
    "    npr.seed(1)\n",
    "    random.seed(1)\n",
    "    \"\"\"\n",
    "    Algorithme de recuit simulé pour déchiffrer un message codé.\n",
    "    \n",
    "    Args:\n",
    "        message_code (list): Message codé sous forme de liste de caractères.\n",
    "        matrice_proba (numpy.ndarray): Matrice de probabilités de transition.\n",
    "        alphabet (list): Alphabet d'origine (par exemple, [' ', 'A', ..., 'Z']).\n",
    "        it (int): Nombre maximal d'itérations.\n",
    "        h (float): Paramètre de contrôle pour la température.\n",
    "\n",
    "    Returns:\n",
    "        list, list: Liste des permutations successives et des valeurs d'énergie associées.\n",
    "    \"\"\"\n",
    "    \n",
    "    \n",
    "    # Génération de l'état initial (une permutation de l'alphabet)\n",
    "    etat0 = random.sample(alphabet, len(alphabet))\n",
    "    etat = etat0[:] #une copie de etat0\n",
    "    \n",
    "    # Stockage des résultats\n",
    "    val_etat = [etat]  # Liste des permutations successives\n",
    "    energie_vals = []  # Liste des énergies associées\n",
    "    \n",
    "    for i in range(max_iter):\n",
    "        # Copie de l'état actuel\n",
    "        etat_avant = etat[:]\n",
    "\n",
    "        # Génération d'une nouvelle permutation (échange de deux lettres)\n",
    "        a, b = npr.choice(len(alphabet), 2, replace=False)\n",
    "        etat[a], etat[b] = etat[b], etat[a]\n",
    "\n",
    "        # Calcul des énergies (vraisemblance logarithmique)\n",
    "        energie_etat = calculer_V(message_code, matrice_proba, alphabet, etat)\n",
    "        energie_etat_avant = calculer_V(message_code, matrice_proba, alphabet, etat_avant)\n",
    "        energie_vals.append(energie_etat)\n",
    "\n",
    "        # Calcul de la température\n",
    "        T = h / np.log(i + 2)\n",
    "\n",
    "        # Critère d'acceptation\n",
    "        if npr.rand() < min(1, np.exp((energie_etat - energie_etat_avant) / T)):\n",
    "            val_etat.append(etat[:])\n",
    "        else:\n",
    "            etat = etat_avant[:]\n",
    "\n",
    "        # Vérification si le potentiel dépasse un seuil pour arrêter prématurément\n",
    "        if energie_etat >= -2.12:\n",
    "            print(f\"Message décodé en {i+1} itérations.\")\n",
    "            break\n",
    "\n",
    "    return val_etat, energie_vals\n"
   ]
  },
  {
   "cell_type": "code",
   "execution_count": 191,
   "metadata": {},
   "outputs": [],
   "source": [
    "mes = ['F', 'R', 'N', 'B', 'R', 'J', 'M', 'F', 'B', 'R', 'N', 'Q', 'X', 'H', 'F', 'Y', 'N', 'W', 'S', 'R', 'N', 'K', 'R', 'D', 'N', 'Z', 'L', 'X', 'D', 'R', 'D', 'N', 'M', 'O', 'O', 'H', 'C', 'R', 'F', 'Y', 'N', 'Z', 'X', 'J', 'J', 'R', 'N', 'Y', 'S', 'N', 'K', 'R', 'D', 'N', 'B', 'R', 'D', 'H', 'O', 'R', 'D', 'N', 'J', 'M', 'H', 'D', 'N', 'B', 'R', 'D', 'H', 'O', 'R', 'N', 'W', 'S', 'N', 'R', 'K', 'K', 'R', 'D', 'N', 'M', 'O', 'O', 'H', 'C', 'R', 'F', 'Y', 'N', 'Z', 'X', 'J', 'J', 'R', 'N', 'R', 'K', 'K', 'R', 'D', 'N', 'M', 'O', 'O', 'H', 'C', 'R', 'F', 'Y', 'N', 'R', 'Y', 'N', 'Y', 'S', 'N', 'Q', 'O', 'X', 'D', 'Q', 'R', 'O', 'R', 'O', 'M', 'D', 'N', 'Y', 'X', 'S', 'V', 'X', 'S', 'O', 'D', 'N', 'R', 'Q', 'H', 'Z', 'Y', 'R', 'Y', 'R']"
   ]
  },
  {
   "cell_type": "code",
   "execution_count": 192,
   "metadata": {},
   "outputs": [
    {
     "name": "stdout",
     "output_type": "stream",
     "text": [
      "Message décodé en 2148 itérations.\n"
     ]
    }
   ],
   "source": [
    "# Paramètres d'exécution de l'algorithme\n",
    "max_iter = 15000  # Nombre d'itérations\n",
    "h = 0.013  # Température initiale\n",
    "\n",
    "# Lancer le recuit simulé pour déchiffrer le message\n",
    "permutations, energie_vals = recuit_simule_decrypt(mes, matrice_proba, alphabet, max_iter, h)\n"
   ]
  },
  {
   "cell_type": "code",
   "execution_count": null,
   "metadata": {},
   "outputs": [
    {
     "name": "stdout",
     "output_type": "stream",
     "text": [
      "Potentiel du message décodé via la dernière permutation est : -2.0975792909151565\n",
      " Le Message décodé est --> NE DEMANDE POINT QUE LES CHOSES ARRIVENT COMME TU LES DESIRES MAIS DESIRE QU ELLES ARRIVENT COMME ELLES ARRIVENT ET TU PROSPERERAS TOUJOURS EPICTETE\n"
     ]
    }
   ],
   "source": [
    "final_permu = permutations[-1]  # Dernière permutation trouvée\n",
    "if len(final_permu) != len(alphabet):\n",
    "    raise ValueError(\"La permutation finale n'a pas la même longueur que l'alphabet.\")\n",
    "\n",
    "# Calcul et affichage du potentiel du message\n",
    "potentiel_final = calculer_V(mes, matrice_proba, alphabet, final_permu)\n",
    "print(\"Potentiel du message décodé via la dernière permutation est :\", potentiel_final)\n",
    "\n",
    "# Décodage et affichage du message\n",
    "message_decode = dechiffrer_message_dict(mes, alphabet, final_permu)\n",
    "print(\" Le Message décodé est -->\", ''.join(message_decode))\n"
   ]
  },
  {
   "cell_type": "code",
   "execution_count": 194,
   "metadata": {},
   "outputs": [
    {
     "data": {
      "image/png": "[encoded data removed]",
      "text/plain": [
       "<Figure size 640x480 with 1 Axes>"
      ]
     },
     "metadata": {},
     "output_type": "display_data"
    }
   ],
   "source": [
    "#Evolution du potentiel (energie)\n",
    "plt.plot(energie_vals)\n",
    "plt.title(\"Évolution de l'énergie en fonction des itérations\")\n",
    "plt.axhline(y=-2.12, color='red', linestyle='--', label=\"Seuil d'arrêt\")\n",
    "plt.xlabel(\"Itérations\")\n",
    "plt.ylabel(\"Énergie (Vraisemblance)\")\n",
    "plt.legend()\n",
    "plt.grid()\n",
    "plt.show()"
   ]
  },
  {
   "cell_type": "code",
   "execution_count": 195,
   "metadata": {},
   "outputs": [
    {
     "data": {
      "image/png": "[encoded data removed]",
      "text/plain": [
       "<Figure size 640x480 with 1 Axes>"
      ]
     },
     "metadata": {},
     "output_type": "display_data"
    }
   ],
   "source": [
    "#Evolution de la temperature en fonction des itérations\n",
    "temperatures = [h / np.log(i + 2) for i in range(1, max_iter + 1)]\n",
    "plt.plot(range(1, max_iter + 1), temperatures)\n",
    "plt.title(\"Évolution de la température\")\n",
    "plt.xlabel(\"Itérations\")\n",
    "plt.ylabel(\"Température\")\n",
    "plt.grid()\n",
    "plt.show()"
   ]
  },
  {
   "cell_type": "markdown",
   "metadata": {},
   "source": []
  },
  {
   "cell_type": "markdown",
   "metadata": {},
   "source": []
  },
  {
   "cell_type": "code",
   "execution_count": null,
   "metadata": {},
   "outputs": [],
   "source": []
  },
  {
   "cell_type": "code",
   "execution_count": null,
   "metadata": {},
   "outputs": [],
   "source": []
  },
  {
   "cell_type": "code",
   "execution_count": null,
   "metadata": {},
   "outputs": [],
   "source": []
  }
 ],
 "metadata": {
  "kernelspec": {
   "display_name": "Python 3",
   "language": "python",
   "name": "python3"
  },
  "language_info": {
   "codemirror_mode": {
    "name": "ipython",
    "version": 3
   },
   "file_extension": ".py",
   "mimetype": "text/x-python",
   "name": "python",
   "nbconvert_exporter": "python",
   "pygments_lexer": "ipython3",
   "version": "3.12.0"
  }
 },
 "nbformat": 4,
 "nbformat_minor": 2
}
